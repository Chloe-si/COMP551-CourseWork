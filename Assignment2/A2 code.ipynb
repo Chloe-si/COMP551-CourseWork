{
  "nbformat": 4,
  "nbformat_minor": 0,
  "metadata": {
    "colab": {
      "provenance": [],
      "collapsed_sections": []
    },
    "kernelspec": {
      "name": "python3",
      "display_name": "Python 3"
    },
    "language_info": {
      "name": "python"
    }
  },
  "cells": [
    {
      "cell_type": "code",
      "source": [
        "# Please run our code on Colab and upload the files needed\n",
        "import numpy as np \n",
        "import nltk\n",
        "import string\n",
        "import math\n",
        "nltk.download(\"stopwords\")\n",
        "from nltk.corpus import stopwords\n",
        "import matplotlib.pyplot as plt\n",
        "from sklearn.metrics import mean_squared_error, r2_score\n",
        "\n",
        "np.random.seed(2022)"
      ],
      "metadata": {
        "colab": {
          "base_uri": "https://localhost:8080/"
        },
        "id": "CzrXpieZEmPf",
        "outputId": "b7482bf0-455a-4303-a0fb-b89bf565bda1"
      },
      "execution_count": null,
      "outputs": [
        {
          "output_type": "stream",
          "name": "stderr",
          "text": [
            "[nltk_data] Downloading package stopwords to /root/nltk_data...\n",
            "[nltk_data]   Package stopwords is already up-to-date!\n"
          ]
        }
      ]
    },
    {
      "cell_type": "code",
      "source": [
        "vocab= {}\n",
        "with open('/content/imdb.vocab', 'r') as f:\n",
        "    vocab_idx= 0\n",
        "    for line in f.readlines():\n",
        "        line= line.strip('\\n')\n",
        "        vocab[vocab_idx]= (line, 0, list(), list())\n",
        "        vocab_idx+= 1\n",
        "print(len(vocab))"
      ],
      "metadata": {
        "colab": {
          "base_uri": "https://localhost:8080/"
        },
        "id": "y247Mj7vEnRj",
        "outputId": "9c00fd27-f3c6-4614-bf07-5acee2c60dbc"
      },
      "execution_count": null,
      "outputs": [
        {
          "output_type": "stream",
          "name": "stdout",
          "text": [
            "89527\n"
          ]
        }
      ]
    },
    {
      "cell_type": "code",
      "source": [
        "# Update the dictionary to identify the rare and stopwords\n",
        "# Note the dataframe is constructed in a separate cell as the program always crashes when they are done together\n",
        "with open('/content/labeledBowTrain.feat', 'r') as f:\n",
        "    lines= f.readlines()\n",
        "    train_len= len(lines)\n",
        "    for line in lines:\n",
        "        raw= line.split()\n",
        "        rating= int(raw[0])\n",
        "        for tok in raw[1:]:\n",
        "            splt= tok.split(':')\n",
        "            ele= int(splt[0])\n",
        "            vocab[ele]= (vocab[ele][0], vocab[ele][1]+ 1, vocab[ele][2]+ [int(splt[1])], vocab[ele][3]+ [rating])"
      ],
      "metadata": {
        "id": "vsR1k_j-E-_D"
      },
      "execution_count": null,
      "outputs": []
    },
    {
      "cell_type": "code",
      "source": [
        "print(vocab[12852])\n",
        "print(train_len)"
      ],
      "metadata": {
        "colab": {
          "base_uri": "https://localhost:8080/"
        },
        "id": "PE31T9VtE-8y",
        "outputId": "56151578-1225-44f5-feb4-f0f40fbbfe8c"
      },
      "execution_count": null,
      "outputs": [
        {
          "output_type": "stream",
          "name": "stdout",
          "text": [
            "('sylvester', 15, [1, 1, 1, 1, 1, 1, 1, 1, 1, 3, 3, 2, 1, 1, 1], [10, 10, 10, 10, 8, 9, 7, 7, 1, 3, 3, 4, 3, 2, 1])\n",
            "25000\n"
          ]
        }
      ]
    },
    {
      "cell_type": "code",
      "source": [
        "with open('/content/labeledBowTest.feat', 'r') as f:\n",
        "    lines= f.readlines()\n",
        "    test_len= len(lines)\n",
        "    for line in lines:\n",
        "        raw= line.split()\n",
        "        for tok in raw[1:]:\n",
        "            splt= tok.split(':')\n",
        "            ele= int(splt[0])\n",
        "            vocab[ele]= (vocab[ele][0], vocab[ele][1]+ 1, vocab[ele][2]+ [int(splt[1])], vocab[ele][3]+ [rating])"
      ],
      "metadata": {
        "id": "rMlPM1UOE-6R"
      },
      "execution_count": null,
      "outputs": []
    },
    {
      "cell_type": "code",
      "source": [
        "print(test_len)"
      ],
      "metadata": {
        "colab": {
          "base_uri": "https://localhost:8080/"
        },
        "id": "gIkf7-NJE-3c",
        "outputId": "552eea20-1de1-47a4-88dd-e2c139e09bea"
      },
      "execution_count": null,
      "outputs": [
        {
          "output_type": "stream",
          "name": "stdout",
          "text": [
            "25000\n"
          ]
        }
      ]
    },
    {
      "cell_type": "code",
      "source": [
        "# Filter out the words that are rare or too common\n",
        "print(len(vocab))\n",
        "stop_words = set(stopwords.words('english'))\n",
        "whole_len= train_len+ test_len\n",
        "word_list= []\n",
        "for entry in vocab:\n",
        "    percent= vocab[entry][1]/ whole_len\n",
        "    if percent< 0.01 or (vocab[entry][0] in string.punctuation) or percent> 0.6 or (vocab[entry][0] in stop_words): \n",
        "        # We should also get rid of the punctuation marks and some common stop words provided by the nltk library\n",
        "        word_list.append(entry)\n",
        "# Pop out the identified words\n",
        "for idx in word_list:\n",
        "    vocab.pop(idx)\n",
        "print(len(vocab))"
      ],
      "metadata": {
        "colab": {
          "base_uri": "https://localhost:8080/"
        },
        "id": "OTRt5w_gFO0D",
        "outputId": "b7c5cb90-b33d-4d17-c491-2b02b0752bc0"
      },
      "execution_count": null,
      "outputs": [
        {
          "output_type": "stream",
          "name": "stdout",
          "text": [
            "89527\n",
            "1619\n"
          ]
        }
      ]
    },
    {
      "cell_type": "code",
      "source": [
        "# A glimpse of what words have been dropped\n",
        "print(word_list[0: 100])"
      ],
      "metadata": {
        "colab": {
          "base_uri": "https://localhost:8080/"
        },
        "id": "RjmYQWgpFOxx",
        "outputId": "ca8cbc98-6b62-4914-89fd-8af63a5da537"
      },
      "execution_count": null,
      "outputs": [
        {
          "output_type": "stream",
          "name": "stdout",
          "text": [
            "[0, 1, 2, 3, 4, 5, 6, 7, 8, 9, 10, 11, 12, 13, 14, 15, 16, 18, 19, 20, 21, 22, 23, 24, 25, 27, 28, 29, 30, 31, 32, 33, 34, 35, 37, 38, 39, 40, 41, 42, 43, 44, 45, 46, 47, 49, 50, 51, 52, 54, 55, 56, 59, 60, 63, 65, 66, 67, 68, 69, 70, 73, 76, 78, 80, 81, 82, 85, 86, 87, 88, 89, 91, 92, 96, 97, 98, 108, 113, 117, 120, 122, 125, 128, 129, 130, 133, 134, 136, 139, 140, 143, 147, 148, 154, 155, 165, 167, 168, 183]\n"
          ]
        }
      ]
    },
    {
      "cell_type": "code",
      "source": [
        "# Now compute the z- score\n",
        "a1= np.array(len(vocab))\n",
        "z_scores= []\n",
        "for entry in vocab:\n",
        "    num= vocab[entry][1]\n",
        "    appearances= np.array(vocab[entry][2])\n",
        "    app_mean= np.mean(appearances)\n",
        "    app_std= np.std(appearances)\n",
        "    ratings= np.array(vocab[entry][3])\n",
        "    rat_mean= np.mean(ratings)\n",
        "    rat_std= np.std(ratings)\n",
        "    computed_score= np.inner((appearances- app_mean)/app_std, (ratings- rat_mean)/rat_std)/ math.sqrt(num)\n",
        "    z_scores.append((entry, computed_score, abs(computed_score), np.mean(appearances), np.std(appearances), np.mean(ratings), np.std(ratings)))\n",
        "# Sort the tuple list based on their z-score\n",
        "z_scores_sorted= sorted(z_scores, key=lambda tup: tup[2])"
      ],
      "metadata": {
        "id": "YmhACVv0FOvX"
      },
      "execution_count": null,
      "outputs": []
    },
    {
      "cell_type": "code",
      "source": [
        "z_scores_sorted_pos_neg= sorted(z_scores, key=lambda tup: tup[1])"
      ],
      "metadata": {
        "id": "VkO3vPCCFOtB"
      },
      "execution_count": null,
      "outputs": []
    },
    {
      "cell_type": "code",
      "source": [
        "print('Most Negative words')\n",
        "for entry in z_scores_sorted_pos_neg[:10]:\n",
        "    print(vocab[entry[0]][:2], entry[1])\n",
        "    \n",
        "print('Most Positive words')\n",
        "for entry in z_scores_sorted_pos_neg[-10:][::-1]:\n",
        "    print(vocab[entry[0]][:2], entry[1])"
      ],
      "metadata": {
        "colab": {
          "base_uri": "https://localhost:8080/"
        },
        "id": "-hFPiR_WFOqk",
        "outputId": "1a60197e-d575-461e-de6c-f58c64cfaba7"
      },
      "execution_count": null,
      "outputs": [
        {
          "output_type": "stream",
          "name": "stdout",
          "text": [
            "Most Negative words\n",
            "('bad', 11662) -12.541855942250658\n",
            "('even', 16696) -4.985337615916012\n",
            "('horrible', 2100) -4.875031147159681\n",
            "('book', 2672) -4.194175902571982\n",
            "('wrong', 3109) -4.186499512232363\n",
            "('worse', 2568) -4.072745712079182\n",
            "('waste', 2526) -3.9853926285867183\n",
            "('like', 22824) -3.930962484424543\n",
            "('worst', 4418) -3.90511614881379\n",
            "('funny', 6321) -3.6466158083519438\n",
            "Most Positive words\n",
            "('life', 8673) 7.838729678904284\n",
            "('great', 12543) 7.083325508271831\n",
            "('best', 9609) 6.372434948453572\n",
            "('series', 3675) 6.154261379511176\n",
            "('holes', 653) 6.027474022678127\n",
            "('well', 14090) 5.212363154743691\n",
            "('skip', 502) 5.082046417988907\n",
            "('though', 6998) 5.0672633106045515\n",
            "('story', 14716) 4.953584174402963\n",
            "('early', 2686) 4.839558476686666\n"
          ]
        }
      ]
    },
    {
      "cell_type": "code",
      "source": [
        "features = ('bad','even','horrible','book','wrong','worse','waste','like','worst','funny','life','great','best','series','holes','well','skip','through','story','early')\n",
        "perform=[]\n",
        "for entry in z_scores_sorted_pos_neg[:10]:\n",
        "    perform.append(entry[1])\n",
        "for entry in z_scores_sorted_pos_neg[-10:][::-1]:\n",
        "    perform.append(entry[1])\n",
        "\n",
        "plt.barh(features,perform)\n",
        "plt.ylabel('features(words)')\n",
        "plt.xlabel('coefficients')\n",
        "plt.title('TOP 10 NEG and POS features')\n",
        "\n",
        "plt.show()"
      ],
      "metadata": {
        "colab": {
          "base_uri": "https://localhost:8080/",
          "height": 295
        },
        "id": "Wmal1J9sFOoG",
        "outputId": "3ed1efff-8cd2-4403-b37c-0f72b71bc942"
      },
      "execution_count": null,
      "outputs": [
        {
          "output_type": "display_data",
          "data": {
            "text/plain": [
              "<Figure size 432x288 with 1 Axes>"
            ],
            "image/png": "[encoded data removed]"
          },
          "metadata": {
            "needs_background": "light"
          }
        }
      ]
    },
    {
      "cell_type": "code",
      "source": [
        "print(len(z_scores_sorted))"
      ],
      "metadata": {
        "colab": {
          "base_uri": "https://localhost:8080/"
        },
        "id": "ew-KpVKdE-01",
        "outputId": "bd782942-f685-4271-ed57-a93a4fbf2f75"
      },
      "execution_count": null,
      "outputs": [
        {
          "output_type": "stream",
          "name": "stdout",
          "text": [
            "1619\n"
          ]
        }
      ]
    },
    {
      "cell_type": "code",
      "source": [
        "print(z_scores_sorted[::-1][0], vocab[z_scores_sorted[::-1][0][0]][0])\n",
        "for entry in z_scores_sorted[::-1][:100]:\n",
        "    print(vocab[entry[0]][:2], entry[1])"
      ],
      "metadata": {
        "colab": {
          "base_uri": "https://localhost:8080/"
        },
        "id": "-GR4WqMsE-yD",
        "outputId": "ac36d208-2ff4-4c59-f435-9c6325507180"
      },
      "execution_count": null,
      "outputs": [
        {
          "output_type": "stream",
          "name": "stdout",
          "text": [
            "(77, -12.541855942250658, 12.541855942250658, 1.5601955067741382, 1.0707778237578192, 2.8443663179557537, 2.3038842044019683) bad\n",
            "('bad', 11662) -12.541855942250658\n",
            "('life', 8673) 7.838729678904284\n",
            "('great', 12543) 7.083325508271831\n",
            "('best', 9609) 6.372434948453572\n",
            "('series', 3675) 6.154261379511176\n",
            "('holes', 653) 6.027474022678127\n",
            "('well', 14090) 5.212363154743691\n",
            "('skip', 502) 5.082046417988907\n",
            "('though', 6998) 5.0672633106045515\n",
            "('even', 16696) -4.985337615916012\n",
            "('story', 14716) 4.953584174402963\n",
            "('horrible', 2100) -4.875031147159681\n",
            "('early', 2686) 4.839558476686666\n",
            "('jane', 534) 4.8302942344201805\n",
            "('still', 8591) 4.800906634664075\n",
            "('star', 2869) 4.789436943182649\n",
            "('oscar', 1090) 4.5878319428676155\n",
            "('case', 2657) 4.3718019779890245\n",
            "('animals', 540) 4.201949267155053\n",
            "('book', 2672) -4.194175902571982\n",
            "('wrong', 3109) -4.186499512232363\n",
            "('brother', 1544) 4.1692103305770924\n",
            "('father', 2603) 4.150384651372272\n",
            "('red', 1035) 4.138068484725281\n",
            "('also', 12748) 4.120497572548059\n",
            "('future', 1445) 4.117103654896805\n",
            "('michael', 1790) 4.096019219969964\n",
            "('worse', 2568) -4.072745712079182\n",
            "('green', 623) 4.031024468106124\n",
            "('break', 1029) 4.015861812528031\n",
            "('amazing', 2157) 4.009826764473135\n",
            "('waste', 2526) -3.9853926285867183\n",
            "('like', 22824) -3.930962484424543\n",
            "('worst', 4418) -3.90511614881379\n",
            "('impact', 602) 3.8264366595436123\n",
            "('film', 27583) 3.6536488019584574\n",
            "('version', 2785) 3.64818391107125\n",
            "('funny', 6321) -3.6466158083519438\n",
            "('planet', 605) 3.577174977483647\n",
            "('find', 6792) 3.5767326370516384\n",
            "('monster', 974) -3.5749933178333877\n",
            "('etc', 2044) -3.571837486325729\n",
            "('past', 2133) 3.5545526079001704\n",
            "('time', 16883) 3.5428428744050935\n",
            "('caught', 1074) 3.537358201479727\n",
            "('love', 8823) 3.4849054078945505\n",
            "('think', 10759) 3.477656336468138\n",
            "('works', 2230) 3.470955228811488\n",
            "('thing', 7500) -3.441819245058146\n",
            "('boring', 3045) -3.4305544014980205\n",
            "('original', 4451) -3.4217302791699766\n",
            "('horror', 4137) 3.416548628999177\n",
            "('may', 5294) 3.378919348170882\n",
            "('day', 4095) 3.3720246688277866\n",
            "('science', 765) 3.3615542920120487\n",
            "('definitely', 2811) 3.344123614925744\n",
            "(\"i've\", 5451) -3.3436851516539865\n",
            "('nature', 1120) 3.343420801652117\n",
            "('guy', 4534) -3.332995458392593\n",
            "('gave', 2225) 3.3167331145970547\n",
            "('classic', 3065) 3.278564736451532\n",
            "('least', 5328) -3.262137267976941\n",
            "('us', 5405) 3.236754889010814\n",
            "('cgi', 519) -3.2042953430557444\n",
            "('season', 802) 3.1987225079283306\n",
            "('zero', 546) 3.189294419035364\n",
            "('terrible', 2694) -3.1878138327319014\n",
            "('rent', 1327) -3.1619898834459006\n",
            "('head', 2569) -3.152584861269134\n",
            "('studio', 816) 3.137220427242436\n",
            "('good', 18731) 3.0915848245811035\n",
            "('technical', 502) 3.081930842143255\n",
            "('house', 2625) 3.0551053778887343\n",
            "('young', 5268) 3.0526720320961203\n",
            "('dirty', 524) 3.041641131486887\n",
            "('later', 3606) 3.0361451360599587\n",
            "('quite', 5909) 3.0347302054844962\n",
            "('third', 1197) 3.024901553974432\n",
            "('yet', 4532) 3.0170732246110115\n",
            "('man', 7646) 2.995839303169879\n",
            "('issues', 777) 2.989930006049142\n",
            "('slasher', 526) 2.950135924267159\n",
            "('episode', 1880) 2.945104978510442\n",
            "('much', 14013) 2.9371419793609803\n",
            "('air', 1040) -2.9318665281243317\n",
            "('shot', 3273) -2.9130621205462326\n",
            "('word', 1642) -2.8970009492137048\n",
            "('date', 740) -2.8906129872462984\n",
            "('performance', 4424) 2.8870113626152194\n",
            "('paris', 522) 2.88487827672532\n",
            "('tells', 1513) 2.881663171199218\n",
            "('show', 6617) 2.881310054897013\n",
            "('paul', 1092) 2.8762381243949537\n",
            "('part', 6205) 2.8585280002786675\n",
            "('viewers', 1376) 2.8563923339939175\n",
            "('musical', 1263) 2.850277421940611\n",
            "('awful', 2788) -2.8415926359384707\n",
            "('enjoy', 3233) 2.8374935457933486\n",
            "('violent', 891) 2.8362554821084585\n",
            "('intelligence', 576) 2.8246102243052875\n"
          ]
        }
      ]
    },
    {
      "cell_type": "code",
      "source": [
        "# Select the first 500 features that have the highest z scores\n",
        "selected= z_scores_sorted[::-1][:500]"
      ],
      "metadata": {
        "id": "N9rYAaLZE-va"
      },
      "execution_count": null,
      "outputs": []
    },
    {
      "cell_type": "code",
      "source": [
        "print(selected[0])"
      ],
      "metadata": {
        "colab": {
          "base_uri": "https://localhost:8080/"
        },
        "id": "KD2oMK5NE-s6",
        "outputId": "506103d2-3c9a-42c7-87f3-b77ff201886c"
      },
      "execution_count": null,
      "outputs": [
        {
          "output_type": "stream",
          "name": "stdout",
          "text": [
            "(77, -12.541855942250658, 12.541855942250658, 1.5601955067741382, 1.0707778237578192, 2.8443663179557537, 2.3038842044019683)\n"
          ]
        }
      ]
    },
    {
      "cell_type": "code",
      "source": [
        "# Word filtering on the training and testing data\n",
        "\n",
        "train_features= []\n",
        "train_ratings= []\n",
        "train_labels= []\n",
        "with open('/content/labeledBowTrain.feat', 'r') as f:\n",
        "    for line in f.readlines():\n",
        "        raw= line.split()\n",
        "        rating= int(raw[0])\n",
        "        label= 1 if rating>= 7 else 0 # Pos(1): rating>= 7 else Neg(0) \n",
        "        feature= [0]* len(selected)\n",
        "        idx= {}\n",
        "        for tok in raw[1:]:\n",
        "            splt= tok.split(':')\n",
        "            idx[int(splt[0])]= int(splt[1])* 1.0 # Convert integer to double\n",
        "        for i, entry in zip(range(len(selected)), selected):\n",
        "            feature[i]= idx[entry[0]] if entry[0] in idx else 0* 1.0\n",
        "        train_features.append(feature)\n",
        "        train_ratings.append(rating)\n",
        "        train_labels.append(label)"
      ],
      "metadata": {
        "id": "5Gz9d1MJE-qU"
      },
      "execution_count": null,
      "outputs": []
    },
    {
      "cell_type": "code",
      "source": [
        "test_features= []\n",
        "test_ratings= []\n",
        "test_labels= []\n",
        "with open('/content/labeledBowTest.feat', 'r') as f:\n",
        "    for line in f.readlines():\n",
        "        raw= line.split()\n",
        "        rating= int(raw[0])\n",
        "        label= 1 if rating>= 7 else 0 # Pos(1): rating>= 7 else Neg(0) \n",
        "        feature= [0]* len(selected)\n",
        "        idx= {}\n",
        "        for tok in raw[1:]:\n",
        "            splt= tok.split(':')\n",
        "            idx[int(splt[0])]= int(splt[1])* 1.0 # Convert integer to double\n",
        "        for i, entry in zip(range(len(selected)), selected):\n",
        "            feature[i]= idx[entry[0]] if entry[0] in idx else 0* 1.0\n",
        "        test_features.append(feature)\n",
        "        test_ratings.append(rating)\n",
        "        test_labels.append(label)    "
      ],
      "metadata": {
        "id": "QigiJEbtE-oC"
      },
      "execution_count": null,
      "outputs": []
    },
    {
      "cell_type": "code",
      "source": [
        "train_X= np.array(train_features)\n",
        "train_y= np.array(train_labels)\n",
        "print(train_X.shape, train_y.shape)"
      ],
      "metadata": {
        "colab": {
          "base_uri": "https://localhost:8080/"
        },
        "id": "aZ_LGrIBE-l0",
        "outputId": "d93cf8a6-7ead-489e-f42e-de668b8d5b25"
      },
      "execution_count": null,
      "outputs": [
        {
          "output_type": "stream",
          "name": "stdout",
          "text": [
            "(25000, 500) (25000,)\n"
          ]
        }
      ]
    },
    {
      "cell_type": "code",
      "source": [
        "test_X= np.array(test_features)\n",
        "test_y= np.array(test_labels)\n",
        "print(test_X.shape, test_y.shape)"
      ],
      "metadata": {
        "colab": {
          "base_uri": "https://localhost:8080/"
        },
        "id": "k2qJyVUME-jk",
        "outputId": "5a1e4562-dfd1-4724-97f4-12d573e64c9e"
      },
      "execution_count": null,
      "outputs": [
        {
          "output_type": "stream",
          "name": "stdout",
          "text": [
            "(25000, 500) (25000,)\n"
          ]
        }
      ]
    },
    {
      "cell_type": "code",
      "source": [
        "class LogisticRegression:\n",
        "    \n",
        "    def __init__(self, dim, learning_rate= 0.001, epsilon=1e-6, max_iters=1e5):\n",
        "        self.learning_rate = learning_rate\n",
        "        self.epsilon = epsilon   # Tolerance                  \n",
        "        self.max_iters = max_iters  # Maximum iteration\n",
        "        self.weight= np.zeros(dim)\n",
        "        self.bias= 0\n",
        "        \n",
        "    def gradient(self, x, y):\n",
        "        Num,Dim = x.shape\n",
        "        y_hat = 1/(1+ np.exp(-np.dot(x, self.weight).astype(float)- self.bias))\n",
        "        return np.dot(x.T, y_hat - y)/Num, np.sum((y_hat - y))/Num \n",
        "        \n",
        "    def fit(self, x, y):\n",
        "        N = x.shape[0]\n",
        "        g1 = np.inf \n",
        "        g2= 0\n",
        "        t = 0\n",
        "        gb= 0 # The gradient for bias\n",
        "        running_cost= []\n",
        "        while np.linalg.norm(g1- g2) > self.epsilon and t < self.max_iters:\n",
        "            g1= g2\n",
        "            g2, gb = self.gradient(x, y) # g2 is the gradient for the weights, gb is the gradient for the bias \n",
        "            self.weight-= self.learning_rate * g2\n",
        "            self.bias-= self.learning_rate* gb\n",
        "            \n",
        "            # Calculate the cost\n",
        "            z= np.dot(x, self.weight).astype(float)+ self.bias\n",
        "            J= np.mean(y * np.log1p(np.exp(-z)) + (1-y) * np.log1p(np.exp(z)))\n",
        "            running_cost.append(J)\n",
        "            t += 1\n",
        "        print(t)\n",
        "        return self, running_cost\n",
        "    \n",
        "    def predict(self, x):\n",
        "        if x.ndim == 1:\n",
        "            x = x[:, None] # If we onl\n",
        "\n",
        "        return 1/(1+ np.exp(-np.dot(x, self.weight).astype(float)- self.bias)) \n",
        "\n",
        "    def check_grad(self, X, y):\n",
        "          D = X.shape[1]\n",
        "\n",
        "          diff = np.zeros(D)\n",
        "\n",
        "          weight = self.weight.copy()\n",
        "\n",
        "          for i in range(D):\n",
        "                  epsilon = np.zeros(D)\n",
        "                  epsilon[i] = np.random.rand() * 1e-4\n",
        "\n",
        "                  self.weight = self.weight + epsilon\n",
        "                  z= np.dot(X, self.weight).astype(float)+ self.bias\n",
        "                  J1= np.mean(y * np.log1p(np.exp(-z)) + (1-y) * np.log1p(np.exp(z)))\n",
        "                  self.weight = weight\n",
        "\n",
        "                  self.weight = self.weight - epsilon\n",
        "                  z= np.dot(X, self.weight).astype(float)+ self.bias\n",
        "                  J2= np.mean(y * np.log1p(np.exp(-z)) + (1-y) * np.log1p(np.exp(z)))\n",
        "                  self.weight = weight\n",
        "\n",
        "                  numeric_grad = (J1 - J2) / (2 * epsilon[i])\n",
        "                  derived_grad = self.gradient(X, y)[0][i]\n",
        "\n",
        "                  diff[i] = np.square(derived_grad - numeric_grad).sum() / \\\n",
        "                              np.square(derived_grad + numeric_grad).sum()\n",
        "\n",
        "          # print(diff)\n",
        "          return diff.sum()"
      ],
      "metadata": {
        "id": "gPFaQ33qE-g4"
      },
      "execution_count": null,
      "outputs": []
    },
    {
      "cell_type": "code",
      "source": [
        "def evaluate(pred_X, targets):\n",
        "    counter= 0\n",
        "    for i in range(len(targets)):\n",
        "        pred= 1 if pred_X[i]> 0.5 else 0\n",
        "        counter+= 1 if pred== targets[i] else 0\n",
        "    return (counter/len(targets))"
      ],
      "metadata": {
        "id": "M9pwjO4QE-dk"
      },
      "execution_count": null,
      "outputs": []
    },
    {
      "cell_type": "code",
      "source": [
        "def normalize(X):\n",
        "    \n",
        "    _, n = X.shape # Get the number of features\n",
        "\n",
        "    for i in range(n):\n",
        "        X[:, i] = (X[:, i] - X[:, i].mean())/X[:, i].std()\n",
        "        \n",
        "    return X"
      ],
      "metadata": {
        "id": "jhkRPeOUFolk"
      },
      "execution_count": null,
      "outputs": []
    },
    {
      "cell_type": "code",
      "source": [
        "# Normalize and shuffle the data\n",
        "train_X= normalize(train_X)\n",
        "indices= list(range(len(train_X)))\n",
        "np.random.shuffle(indices) \n",
        "train_X= train_X[indices]\n",
        "train_y= train_y[indices]"
      ],
      "metadata": {
        "id": "6PLdeUzFFoi1"
      },
      "execution_count": null,
      "outputs": []
    },
    {
      "cell_type": "code",
      "source": [
        "test_X= normalize(test_X)\n",
        "indices= list(range(len(test_X)))\n",
        "np.random.shuffle(indices) \n",
        "test_X= test_X[indices]\n",
        "test_y= test_y[indices]"
      ],
      "metadata": {
        "id": "NevwdKLeFof3"
      },
      "execution_count": null,
      "outputs": []
    },
    {
      "cell_type": "code",
      "source": [
        "logistic= LogisticRegression(dim= len(selected), learning_rate= 0.001, epsilon=1e-6, max_iters=1e5)\n",
        "logistic, running_cost= logistic.fit(train_X, train_y)"
      ],
      "metadata": {
        "colab": {
          "base_uri": "https://localhost:8080/"
        },
        "id": "l8XtOxfiFodV",
        "outputId": "28be29a6-a7c8-42a0-9bca-669206e93489"
      },
      "execution_count": null,
      "outputs": [
        {
          "output_type": "stream",
          "name": "stdout",
          "text": [
            "25145\n"
          ]
        }
      ]
    },
    {
      "cell_type": "code",
      "source": [
        "print(logistic.check_grad(train_X, train_y))"
      ],
      "metadata": {
        "colab": {
          "base_uri": "https://localhost:8080/"
        },
        "id": "e1_5Vpt5JHdQ",
        "outputId": "9ac11c71-6d7a-4b2f-8204-b30a1d407594"
      },
      "execution_count": null,
      "outputs": [
        {
          "output_type": "stream",
          "name": "stdout",
          "text": [
            "9.461249860125048e-06\n"
          ]
        }
      ]
    },
    {
      "cell_type": "code",
      "source": [
        "#plotting the 10 most positive and 10 most negative features sorted by the weights\n",
        "\n",
        "weight_sorted= sorted(logistic.weight)\n",
        "\n",
        "weight_arg_sorted= np.argsort(logistic.weight)\n",
        "\n",
        "perform=[]\n",
        "for entry in weight_sorted[:10]:\n",
        "    perform.append(entry)\n",
        "for entry in weight_sorted[-10:][::-1]:\n",
        "    perform.append(entry)\n",
        "\n",
        "\n",
        "features=[]\n",
        "\n",
        "for entry in weight_arg_sorted[:10]:\n",
        "    features.append(vocab[selected[entry][0]][0])\n",
        "for entry in weight_arg_sorted[-10:][::-1]:\n",
        "    features.append(vocab[selected[entry][0]][0])\n",
        "\n",
        "plt.barh(features,perform)\n",
        "plt.ylabel('features(words)')\n",
        "plt.xlabel('weight values')\n",
        "plt.title('TOP features')\n",
        "plt.show()"
      ],
      "metadata": {
        "colab": {
          "base_uri": "https://localhost:8080/",
          "height": 295
        },
        "id": "qeaMaqhOFoap",
        "outputId": "256a3d33-2b94-41b5-bf41-70f7c41d86bf"
      },
      "execution_count": null,
      "outputs": [
        {
          "output_type": "display_data",
          "data": {
            "text/plain": [
              "<Figure size 432x288 with 1 Axes>"
            ],
            "image/png": "[encoded data removed]"
          },
          "metadata": {
            "needs_background": "light"
          }
        }
      ]
    },
    {
      "cell_type": "code",
      "source": [
        "plt.clf()\n",
        "plt.plot(running_cost)\n",
        "plt.show()"
      ],
      "metadata": {
        "colab": {
          "base_uri": "https://localhost:8080/",
          "height": 265
        },
        "id": "uQ_uoAdPFoYK",
        "outputId": "c5b0d457-f19e-44a0-e67a-b40a4e0b8d6e"
      },
      "execution_count": null,
      "outputs": [
        {
          "output_type": "display_data",
          "data": {
            "text/plain": [
              "<Figure size 432x288 with 1 Axes>"
            ],
            "image/png": "[encoded data removed]"
          },
          "metadata": {
            "needs_background": "light"
          }
        }
      ]
    },
    {
      "cell_type": "code",
      "source": [
        "Logistic_results= logistic.predict(test_X)\n",
        "evaluate(Logistic_results, test_y)"
      ],
      "metadata": {
        "colab": {
          "base_uri": "https://localhost:8080/"
        },
        "id": "ISN3Lf2vFoVN",
        "outputId": "5f47449c-4a2f-416b-e725-6e543a57a32a"
      },
      "execution_count": null,
      "outputs": [
        {
          "output_type": "execute_result",
          "data": {
            "text/plain": [
              "0.82872"
            ]
          },
          "metadata": {},
          "execution_count": 35
        }
      ]
    },
    {
      "cell_type": "code",
      "source": [
        "# Split part of the testing data to choose the best hyperparameter for KNN\n",
        "ten_per_part= int(len(test_X)/ 10)\n",
        "valid_KNN_X= test_X[:ten_per_part]\n",
        "valid_KNN_y= test_y[:ten_per_part]\n",
        "test_KNN_X= test_X[ten_per_part:]\n",
        "test_KNN_y= test_y[ten_per_part:]"
      ],
      "metadata": {
        "id": "RTXIp4rZFoSy"
      },
      "execution_count": null,
      "outputs": []
    },
    {
      "cell_type": "code",
      "source": [
        "from sklearn.neighbors import KNeighborsClassifier\n",
        "# Sklearn KNN\n",
        "ac_list= []\n",
        "for i in range(1, 101):\n",
        "    neigh = KNeighborsClassifier(n_neighbors= i).fit(train_X, train_y)\n",
        "    ac_list.append(evaluate(neigh.predict(valid_KNN_X), valid_KNN_y))"
      ],
      "metadata": {
        "id": "0dg8zM0vFoQm"
      },
      "execution_count": null,
      "outputs": []
    },
    {
      "cell_type": "code",
      "source": [
        "best_k= np.argmax(np.array(ac_list))\n",
        "print(best_k+ 1)\n",
        "neigh = KNeighborsClassifier(n_neighbors= best_k+ 1).fit(train_X, train_y)\n",
        "KNN_results= neigh.predict(test_KNN_X)\n",
        "evaluate(KNN_results, test_KNN_y)"
      ],
      "metadata": {
        "colab": {
          "base_uri": "https://localhost:8080/"
        },
        "id": "a4aAm3LvFoOT",
        "outputId": "d6388412-8087-4a77-c0f1-b2d76b2749a1"
      },
      "execution_count": null,
      "outputs": [
        {
          "output_type": "stream",
          "name": "stdout",
          "text": [
            "30\n"
          ]
        },
        {
          "output_type": "execute_result",
          "data": {
            "text/plain": [
              "0.7185777777777778"
            ]
          },
          "metadata": {},
          "execution_count": 38
        }
      ]
    },
    {
      "cell_type": "code",
      "source": [
        "# Now compute the auroc and the curve\n",
        "from sklearn.metrics import roc_curve, roc_auc_score\n",
        "plt.clf()\n",
        "log_fpr, log_tpr, _ = roc_curve(test_y, Logistic_results)\n",
        "log_auroc = roc_auc_score(test_y, Logistic_results)\n",
        "plt.plot(log_fpr, log_tpr, label= \"Logistic Regression\")\n",
        "plt.text(0.4, 0.1, \"Logistic Regression\" + ': AUC = '+ str(round(log_auroc,2)))\n",
        "\n",
        "knn_fpr, knn_tpr, _ = roc_curve(test_KNN_y, KNN_results)\n",
        "knn_auroc = roc_auc_score(test_KNN_y, KNN_results)\n",
        "plt.plot(knn_fpr, knn_tpr, label= \"KNN\")\n",
        "plt.text(0.4, 0.2, \"KNN\" + ': AUC = '+ str(round(knn_auroc,2)))\n",
        "\n",
        "\n",
        "\n",
        "\n",
        "plt.plot([0, 1], [0, 1], color=\"navy\", lw=2, linestyle=\"--\")\n",
        "plt.xlim([0.0, 1.0])\n",
        "plt.ylim([0.0, 1.05])\n",
        "\n",
        "plt.xlabel(\"False Positive Rate\")\n",
        "plt.ylabel(\"True Positive Rate\")\n",
        "plt.legend(bbox_to_anchor=(1.04, 0.5), loc=\"upper left\")\n",
        "plt.show()\n",
        "#plt.savefig(\"roc_curve.png\", bbox_inches='tight', dpi=300)\n",
        "# plt.close()"
      ],
      "metadata": {
        "colab": {
          "base_uri": "https://localhost:8080/",
          "height": 279
        },
        "id": "7C9etW6wGBPw",
        "outputId": "e0430500-b341-4b0d-c6b3-6f7a9a68ca7b"
      },
      "execution_count": null,
      "outputs": [
        {
          "output_type": "display_data",
          "data": {
            "text/plain": [
              "<Figure size 432x288 with 1 Axes>"
            ],
            "image/png": "[encoded data removed]"
          },
          "metadata": {
            "needs_background": "light"
          }
        }
      ]
    },
    {
      "cell_type": "code",
      "source": [
        "# Comparison of KNN and Logistic Regression on 20%, 40%, 60%, 80%, 100%\n",
        "print(len(train_X))\n",
        "\n",
        "logistic_auc= []\n",
        "knn_auc= []\n",
        "\n",
        "for i in np.arange(0.2, 1.2, 0.2):\n",
        "    data_span= int(len(train_X)* i)\n",
        "    partial_X= train_X[:data_span]\n",
        "    partial_y= train_y[:data_span]\n",
        "    \n",
        "    # Logistic Performance\n",
        "    logistic= LogisticRegression(len(selected), 0.001, 1e-6, 1e5)\n",
        "    logistic, running_cost= logistic.fit(partial_X, partial_y)\n",
        "    Logistic_results= logistic.predict(test_X)\n",
        "    logistic_auc.append(roc_auc_score(test_y, Logistic_results))\n",
        "    \n",
        "    # KNN Performance\n",
        "    neigh = KNeighborsClassifier(n_neighbors= best_k+ 1).fit(partial_X, partial_y)\n",
        "    KNN_results= neigh.predict(test_KNN_X)\n",
        "    knn_auc.append(roc_auc_score(test_KNN_y, KNN_results))\n",
        "    "
      ],
      "metadata": {
        "colab": {
          "base_uri": "https://localhost:8080/"
        },
        "id": "sOL-tFP5FoLo",
        "outputId": "abcf263a-620b-4a8d-96ca-3cec9b8863d2"
      },
      "execution_count": null,
      "outputs": [
        {
          "output_type": "stream",
          "name": "stdout",
          "text": [
            "25000\n",
            "27350\n",
            "26202\n",
            "25704\n",
            "25414\n",
            "25145\n"
          ]
        }
      ]
    },
    {
      "cell_type": "code",
      "source": [
        "xx = np.arange(5)\n",
        "labels= ['20%', '40%', '60%', '80%', '100%']\n",
        "fig = plt.figure()\n",
        "ax = fig.add_axes([0,0,1,1])\n",
        "ax.bar(xx + 0.00, logistic_auc, color = 'b', width = 0.25, label= 'Logistic Regression')\n",
        "ax.bar(xx + 0.25, knn_auc, color = 'g', width = 0.25, label= 'KNN')\n",
        "fig.legend()\n",
        "ax.set_xticks(xx, labels)"
      ],
      "metadata": {
        "colab": {
          "base_uri": "https://localhost:8080/",
          "height": 478
        },
        "id": "pm1ylAboFoJP",
        "outputId": "c4a2b655-6b5a-4cba-843b-ba259c2e91c0"
      },
      "execution_count": null,
      "outputs": [
        {
          "output_type": "stream",
          "name": "stderr",
          "text": [
            "/usr/local/lib/python3.7/dist-packages/ipykernel_launcher.py:8: MatplotlibDeprecationWarning: Passing the minor parameter of set_xticks() positionally is deprecated since Matplotlib 3.2; the parameter will become keyword-only two minor releases later.\n",
            "  \n"
          ]
        },
        {
          "output_type": "execute_result",
          "data": {
            "text/plain": [
              "[<matplotlib.axis.XTick at 0x7eff760e1bd0>,\n",
              " <matplotlib.axis.XTick at 0x7eff7c038e50>,\n",
              " <matplotlib.axis.XTick at 0x7eff76077dd0>,\n",
              " <matplotlib.axis.XTick at 0x7eff7607f610>,\n",
              " <matplotlib.axis.XTick at 0x7eff7607fb50>]"
            ]
          },
          "metadata": {},
          "execution_count": 41
        },
        {
          "output_type": "display_data",
          "data": {
            "text/plain": [
              "<Figure size 432x288 with 1 Axes>"
            ],
            "image/png": "[encoded data removed]"
          },
          "metadata": {
            "needs_background": "light"
          }
        }
      ]
    },
    {
      "cell_type": "markdown",
      "source": [
        "Multi-class Logistic Regression"
      ],
      "metadata": {
        "id": "NpWzTomGU316"
      }
    },
    {
      "cell_type": "code",
      "execution_count": null,
      "metadata": {
        "id": "eAvJbsjkAz72"
      },
      "outputs": [],
      "source": [
        "from sklearn.datasets import fetch_20newsgroups"
      ]
    },
    {
      "cell_type": "code",
      "source": [
        "categ = ['comp.windows.x','rec.motorcycles', 'sci.space','talk.politics.misc']\n",
        "four_train = fetch_20newsgroups(subset='train', categories=categ, shuffle=True, random_state=42, remove=('headers', 'footers', 'quotes'))"
      ],
      "metadata": {
        "id": "vtRB-PEsDSdC"
      },
      "execution_count": null,
      "outputs": []
    },
    {
      "cell_type": "code",
      "source": [
        "print(len(four_train.data))\n",
        "print(four_train.data[50])\n",
        "print(\"\\n\".join(four_train.data[50].split(\"\\n\")[:]))\n",
        "print(four_train.target[50])\n",
        "print(four_train.target_names)"
      ],
      "metadata": {
        "colab": {
          "base_uri": "https://localhost:8080/"
        },
        "id": "nObohuG3ESG3",
        "outputId": "1e3644a5-a8b5-4103-fc11-09e68fd223bd"
      },
      "execution_count": null,
      "outputs": [
        {
          "output_type": "stream",
          "name": "stdout",
          "text": [
            "2249\n",
            "\n",
            "Or read fixes 9, 10, and 11 to the MIT distribution.  This is a known \n",
            "problem - just apply those fixes and set SunPost411FCSLd to YES and \n",
            "OSTeenyVersion in mit/config/sun.cf to 3.\n",
            "\n",
            "In fix-09:\n",
            "\n",
            "In fix-10:\n",
            "\n",
            "In fix-11:\n",
            "\n",
            "Or read fixes 9, 10, and 11 to the MIT distribution.  This is a known \n",
            "problem - just apply those fixes and set SunPost411FCSLd to YES and \n",
            "OSTeenyVersion in mit/config/sun.cf to 3.\n",
            "\n",
            "In fix-09:\n",
            "\n",
            "In fix-10:\n",
            "\n",
            "In fix-11:\n",
            "0\n",
            "['comp.windows.x', 'rec.motorcycles', 'sci.space', 'talk.politics.misc']\n"
          ]
        }
      ]
    },
    {
      "cell_type": "code",
      "source": [
        "#tokenize according to entire training set\n",
        "import nltk\n",
        "nltk.download(\"stopwords\")\n",
        "from nltk.corpus import stopwords\n",
        "from sklearn.feature_extraction.text import CountVectorizer\n",
        "stop_w = set(stopwords.words('english'))\n",
        "count_vect = CountVectorizer(stop_words=stop_w,max_df=0.5,min_df=0.02)\n",
        "X_train_counts = count_vect.fit_transform(four_train.data)\n",
        "len(count_vect.vocabulary_)"
      ],
      "metadata": {
        "colab": {
          "base_uri": "https://localhost:8080/"
        },
        "id": "65_UV03DaQAQ",
        "outputId": "d7004446-3245-4a07-a872-9812bf23ed7c"
      },
      "execution_count": null,
      "outputs": [
        {
          "output_type": "stream",
          "name": "stderr",
          "text": [
            "[nltk_data] Downloading package stopwords to /root/nltk_data...\n",
            "[nltk_data]   Unzipping corpora/stopwords.zip.\n"
          ]
        },
        {
          "output_type": "execute_result",
          "data": {
            "text/plain": [
              "622"
            ]
          },
          "metadata": {},
          "execution_count": 3
        }
      ]
    },
    {
      "cell_type": "code",
      "source": [
        "vocab={}\n",
        "vocab_index=0\n",
        "for key in count_vect.vocabulary_:\n",
        "  l1=[0,0,0,0]\n",
        "  l2=[]\n",
        "  vocab[vocab_index]=(key,l1,l2)\n",
        "  for i in range(len(four_train.data)):\n",
        "    l2.append(float(four_train.data[i].count(key)))\n",
        "    if key in four_train.data[i]:\n",
        "      l1[four_train.target[i]] += 1\n",
        "    else: continue\n",
        "  vocab_index +=1\n",
        "print(len(vocab))"
      ],
      "metadata": {
        "colab": {
          "base_uri": "https://localhost:8080/"
        },
        "id": "TluS1qHmxPlo",
        "outputId": "9b7e3ce0-61bb-413a-e1d2-d68902feecac"
      },
      "execution_count": null,
      "outputs": [
        {
          "output_type": "stream",
          "name": "stdout",
          "text": [
            "622\n"
          ]
        }
      ]
    },
    {
      "cell_type": "code",
      "source": [
        "for i in range(len(vocab)):\n",
        "  occ = vocab[i][1]\n",
        "  occ_sum = occ[0]+occ[1]+occ[2]+occ[3]\n",
        "  o0,o1,o2,o3=occ[0],occ[1],occ[2],occ[3]\n",
        "  occ_percent = [o0/occ_sum,o1/occ_sum,o2/occ_sum,o3/occ_sum]\n",
        "  if occ_percent[0]>0.4 or occ_percent[1]>0.4 or occ_percent[2]>0.4 or occ_percent[3]>0.4:\n",
        "    continue\n",
        "  else: vocab.pop(i)\n",
        "print(len(vocab))"
      ],
      "metadata": {
        "colab": {
          "base_uri": "https://localhost:8080/"
        },
        "id": "8NyboFOIezE-",
        "outputId": "6a37fba4-a483-46a7-9b67-44e7afb836a0"
      },
      "execution_count": null,
      "outputs": [
        {
          "output_type": "stream",
          "name": "stdout",
          "text": [
            "276\n"
          ]
        }
      ]
    },
    {
      "cell_type": "code",
      "source": [
        "from sklearn.preprocessing import normalize"
      ],
      "metadata": {
        "id": "L9fQ7SWTZdfg"
      },
      "execution_count": null,
      "outputs": []
    },
    {
      "cell_type": "code",
      "source": [
        "import pandas as pd\n",
        "import numpy as np\n",
        "#from sklearn.preprocessing import StandardScaler\n",
        "#scaler = StandardScaler()\n",
        "np.random.seed(2022)\n",
        "X_train={}\n",
        "for i in vocab.keys():\n",
        "  X_train[i]=[vocab[i][0],vocab[i][2]]\n"
      ],
      "metadata": {
        "id": "_XqoqgPPI9wE"
      },
      "execution_count": null,
      "outputs": []
    },
    {
      "cell_type": "code",
      "source": [
        "from nltk.corpus.reader import YCOEParseCorpusReader\n",
        "y0,y1,y2,y3=[],[],[],[]\n",
        "for i in range(len(four_train.data)):\n",
        "  y0.append(1 if four_train.target[i]==0 else 0)\n",
        "  y1.append(1 if four_train.target[i]==1 else 0)\n",
        "  y2.append(1 if four_train.target[i]==2 else 0)\n",
        "  y3.append(1 if four_train.target[i]==3 else 0)\n",
        "Y=[y0,y1,y2,y3]"
      ],
      "metadata": {
        "id": "gfvz6sVwJYev"
      },
      "execution_count": null,
      "outputs": []
    },
    {
      "cell_type": "code",
      "source": [
        "from sklearn import metrics\n",
        "all_scores=[]\n",
        "for y in Y:\n",
        "  #print(y)\n",
        "  score_dict={}\n",
        "  for key in X_train:\n",
        "    #print(x)\n",
        "    score_dict[X_train[key][0]]=metrics.mutual_info_score(y,X_train[key][1])\n",
        "  all_scores.append(score_dict)\n",
        "print(all_scores[0])"
      ],
      "metadata": {
        "colab": {
          "base_uri": "https://localhost:8080/"
        },
        "id": "eALavyAiQz3z",
        "outputId": "02299125-158a-485d-f6da-ef6090fc0161"
      },
      "execution_count": null,
      "outputs": [
        {
          "output_type": "stream",
          "name": "stdout",
          "text": [
            "{'organization': 0.002794781498491948, 'motif': 0.013781226392774144, 'people': 0.01698844306397864, 'interested': 0.0008983301046047785, 'software': 0.010433264957157589, 'running': 0.03291207073140324, 'please': 0.00839804983214262, 'send': 0.008486966066025437, 'mail': 0.02194880868818028, 'request': 0.01023821558101773, 'gets': 0.009048871591072486, 'questions': 0.002754435999013839, 'using': 0.023610182971192353, 'programs': 0.005143755710919176, 'however': 0.0019200609809254402, 'world': 0.002568791548070855, 'changes': 0.0023643811227715365, 'small': 0.0044986335657034296, 'added': 0.004229057785287053, 'release': 0.006299743032781798, 'x11r5': 0.0005930048215418682, 'history': 0.006057842148987039, 'university': 0.0003221140044108355, 'open': 0.008393187448223746, 'set': 0.018841396893164997, 'available': 0.009197757320109025, 'cost': 0.012504647557649257, 'ftp': 0.013313344152725216, 'large': 0.004082239188579534, 'public': 0.002746331863785975, 'written': 0.008184101519048198, 'application': 0.04820914520990145, 'files': 0.014462782093184315, 'site': 0.0028868695254132787, 'tried': 0.004552220580603556, 'standard': 0.00657828472890417, 'test': 0.0043758716530645555, 'useful': 0.0036361837286060066, 'article': 0.002360927623718769, 'network': 0.0037991451221262955, 'file': 0.033225921146205394, 'version': 0.02364978664726672, 'future': 0.0007666552965997471, 'case': 0.0048803414737756635, 'information': 0.009227059540361801, 'within': 0.001360583817280964, 'said': 0.010726396688712541, 'months': 0.004693510084186424, 'run': 0.026214950529047067, 'sun': 0.0051019083634433054, 'might': 0.0026920251544208292, 'space': 0.012488873214205727, 'station': 0.0015823204568580548, 'problem': 0.014988823668840611, 'saw': 0.005614954822552942, 'today': 0.006848670197172775, 'earth': 0.006057842148987043, 'hope': 0.002811311689209655, 'ride': 0.0036650902191527703, 'safety': 0.003915776114616536, 'feel': 0.0026282544674989285, 'anyone': 0.007016131252002905, 'bike': 0.03149166330171083, 'server': 0.04353906459809128, 'home': 0.002658405177181018, 'three': 0.0023655898146044303, 'orbit': 0.014983413265669692, 'bit': 0.006703064209591848, 'simply': 0.0012561506471332183, 'national': 0.005648566517649873, 'view': 0.006648559558227346, 'research': 0.0043972314118730415, 'power': 0.0062785450350230365, 'love': 0.003199101390286848, 'miles': 0.00619716420812997, '93': 0.006716898750506313, '23': 0.004119379683866274, '11': 0.029787251771665964, 'remember': 0.0008214050501619335, 'shows': 0.002597244912104001, 'nasa': 0.0014318362277338237, 'center': 0.0033406275460558196, 'field': 0.0009562745866288215, 'business': 0.0031756360285365723, 'years': 0.016280768862683828, 'mean': 0.004114338748313777, 'international': 0.0002925616434145085, 'bill': 0.010744417232873272, 'job': 0.004480297166641555, 'city': 0.005378774893569542, 'hold': 0.0010292796008884884, 'money': 0.0128004233089915, 'correct': 0.004639808676852932, 'mind': 0.00415987414811493, 'dc': 0.0015681202848610199, 'others': 0.002161773832424146, 'clinton': 0.00013613172796075792, 'tax': 0.00514135288577946, 'april': 0.00013613172796075792, 'many': 0.00507464136220831, 'works': 0.012770098924505075, 'command': 0.009897462510815472, 'xterm': 0.0292334895807075, 'text': 0.02281369681650145, 'window': 0.10828399060476714, 'following': 0.01492687241077407, 'box': 0.006248784134635011, '50': 0.006216194470278217, 'email': 0.010609738679647426, 'looks': 0.0023673617647876075, 'mr': 0.0017263767282530598, 'work': 0.02077265482012594, 'motorcycle': 0.00942223049850268, 'fine': 0.013524577687116974, 'size': 0.007853854464121167, 'error': 0.017093154766033177, 'major': 0.0035734005054525544, '18': 0.003263324314578223, 'appreciated': 0.018325395151001414, 'thanks': 0.00541619224272546, 'likely': 0.002211740029710566, 'dod': 0.0009544130034861075, 'option': 0.007452689687697656, 'known': 0.0007296849710515863, 'united': 0.00013613172796075792, 'states': 0.002517219084228247, 'science': 0.0042234387085610375, 'action': 0.00247710317668997, 'spacecraft': 0.005640320738264857, 'launch': 0.013162205853375145, 'laws': 0.0073144207853029514, 'opinion': 0.002264869120060415, 'vehicle': 0.007034658834027241, 'code': 0.03901867221148437, 'believe': 0.004590114671237593, 'copy': 0.008981492118126449, 'california': 0.00013613172796075792, 'message': 0.010715906669023481, 'trying': 0.004781619833332242, 'program': 0.023308167578335537, 'manager': 0.023354926886397464, 'source': 0.02172654747134121, 'uses': 0.005805426134852836, 'help': 0.01573136088185227, 'xlib': 0.0029705688613951746, 'image': 0.00740290548724146, 'lunar': 0.00522346481016419, '1993': 0.0062717524681226555, 'state': 0.005734366382736547, 'value': 0.010639070842422818, 'hp': 0.004142639735426226, 'unix': 0.0094930591912012, 'riding': 0.008436471201353098, 'fast': 0.00258128436884835, 'road': 0.01052269150881866, 'talking': 0.0026969919877175997, 'design': 0.0029761071192952885, 'bikes': 0.00899930709646338, 'force': 0.005082182144095479, 'simple': 0.0066197176889098795, 'front': 0.004037066154566238, 'guy': 0.004841492132099799, 'machine': 0.012345854889263076, 'term': 0.020705208675172854, 'behind': 0.002525226149199385, 'involved': 0.002080925345644527, 'evidence': 0.003121346405655194, 'whatever': 0.0023597309257176935, 'house': 0.002617369653942113, 'engine': 0.00882675838374318, 'drive': 0.0021926378793794164, 'higher': 0.0013220128383359367, 'none': 0.0034781282818652733, 'technology': 0.0029051328822335904, 'issue': 0.0021067113360252886, 'multiple': 0.009999076878257362, 'display': 0.041399801995977516, 'screen': 0.023371985929673978, 'near': 0.001635160315774909, 'office': 0.0023036374346328647, 'president': 0.0038387239757423927, 'law': 0.014590524755235316, 'plan': 0.004535490871219702, 'american': 0.0008178549286555975, 'economic': 0.007734625687597716, 'federal': 0.00494592951582234, 'budget': 0.004652762674416093, 'congress': 0.0028737489554915632, 'sense': 0.0030073358020970458, 'country': 0.004453908332203148, 'create': 0.01061210570133544, 'million': 0.00815550690596717, 'unfortunately': 9.169356704592877e-05, 'care': 0.004788324705387879, 'washington': 0.0007289387549858331, 'package': 0.010315476335025046, 'society': 0.0049459295158223344, 'wanted': 0.0020670674697080894, 'street': 0.004945929515822331, 'asked': 0.002066330998593266, 'pay': 0.013054945774150211, 'services': 0.002991865203563968, 'issues': 0.0008607779292895499, 'words': 0.001293663626891098, 'days': 0.003262492272131869, 'systems': 0.0038143326008827257, 'buy': 0.0038876855473549228, 'built': 0.0040565272131012405, 'user': 0.02299683022863157, 'legal': 0.00871981203894381, 'events': 0.008169038964138437, 'various': 0.00048364797690429034, 'included': 0.004353871601962114, 'users': 0.005514212010191528, 'data': 0.0038859243627023385, 'allow': 0.005062929971759281, 'total': 0.0034144466558274607, 'billion': 0.0071745023985305195, 'costs': 0.004625602504477098, 'government': 0.01802763601493592, 'means': 0.0017171387191639398, 'opinions': 0.0007893008471110659, 'process': 0.007221581342078955, 'memory': 0.010317185971455419, 'write': 0.008909840862844305, 'applications': 0.013765073204073032, 'cannot': 0.003779260950783979, 'advance': 0.01332254148353115, 'gov': 0.012605728313969975, 'graphics': 0.015853637821918592, 'widget': 0.03881103078098166, 'instead': 0.004401795528353151, '16': 0.00358967765581826, 'faq': 0.0041632970816620485, 'commercial': 0.0016256698254641096, 'hardware': 0.004461026983461581, 'color': 0.026918864100758555, 'david': 0.0019932109057087047, 'speed': 0.0016148837353569746, 'key': 0.01669374686425096, 'person': 0.003121938772525552, 'avoid': 0.004281961484890443, 'project': 0.001893302432886373, 'designed': 0.0015884846460962566, 'sources': 0.00770338182066326, 'argument': 0.0011530484004445788, 'development': 0.0015592282663807575, 'moon': 0.0060578421489870405, 'rights': 0.004931565517638522, 'windows': 0.04879008821449331, 'currently': 0.0007757373860330851, 'return': 0.007601186055478556, 'private': 0.002142638485107714, 'life': 0.006031053800428271, 'light': 0.006691145067146082, 'anybody': 0.005264154980564576, 'military': 0.00591859427067026, 'wish': 0.00043930287957710465, 'shuttle': 0.00508466034981333, 'flight': 0.008295951317590526, 'basic': 0.0016935131384772898, 'technical': 0.001339293138720317, 'among': 0.0008858799741366095, 'recently': 0.000764944303269368, 'agree': 0.005667041711435112, 'saying': 0.0020583436919876475, 'client': 0.03975088147400692, 'report': 0.003560022629678185, 'common': 0.0030923035208554163, 'lines': 0.006447684892716922, 'situation': 0.0018582929362553325, 'claim': 0.0014817999024230428, 'solar': 0.005084660349813331, 'political': 0.005700940103596788, 'continue': 0.0011921767416865512, 'function': 0.0226770576528653}\n"
          ]
        }
      ]
    },
    {
      "cell_type": "code",
      "source": [
        "\n",
        "sorted_dict0 = sorted(all_scores[0].items(), key=lambda x: x[1], reverse=True)\n",
        "sorted_dict1 = sorted(all_scores[1].items(), key=lambda x: x[1], reverse=True)\n",
        "sorted_dict2 = sorted(all_scores[2].items(), key=lambda x: x[1], reverse=True)\n",
        "sorted_dict3 = sorted(all_scores[3].items(), key=lambda x: x[1], reverse=True)\n",
        "word_list= []\n",
        "top_MI=sorted_dict0[:50]\n",
        "\n",
        "\n",
        "for tup in sorted_dict0[:50]:\n",
        "  word_list.append(tup[0])\n",
        "\n",
        "\n",
        "for tup in sorted_dict1:\n",
        "  if len(word_list)==100: break\n",
        "  if tup[0] not in word_list:\n",
        "    top_MI.append(tup)\n",
        "    word_list.append(tup[0])\n",
        "\n",
        "for tup in sorted_dict2:\n",
        "  if len(word_list)==150: break\n",
        "  if tup[0] not in word_list:\n",
        "    top_MI.append(tup)\n",
        "    word_list.append(tup[0])\n",
        "\n",
        "for tup in sorted_dict3:\n",
        "  if len(word_list)==200: break\n",
        "  if tup[0] not in word_list:\n",
        "    top_MI.append(tup)\n",
        "    word_list.append(tup[0])\n",
        "  \n",
        "\n",
        "print(top_MI)\n"
      ],
      "metadata": {
        "colab": {
          "base_uri": "https://localhost:8080/"
        },
        "id": "4BZU-Np-UfzV",
        "outputId": "5f10effa-2ec8-4816-ca21-cca885dd4dac"
      },
      "execution_count": null,
      "outputs": [
        {
          "output_type": "stream",
          "name": "stdout",
          "text": [
            "[('window', 0.10828399060476714), ('windows', 0.04879008821449331), ('application', 0.04820914520990145), ('server', 0.04353906459809128), ('display', 0.041399801995977516), ('client', 0.03975088147400692), ('code', 0.03901867221148437), ('widget', 0.03881103078098166), ('file', 0.033225921146205394), ('running', 0.03291207073140324), ('bike', 0.03149166330171083), ('11', 0.029787251771665964), ('xterm', 0.0292334895807075), ('color', 0.026918864100758555), ('run', 0.026214950529047067), ('version', 0.02364978664726672), ('using', 0.023610182971192353), ('screen', 0.023371985929673978), ('manager', 0.023354926886397464), ('program', 0.023308167578335537), ('user', 0.02299683022863157), ('text', 0.02281369681650145), ('function', 0.0226770576528653), ('mail', 0.02194880868818028), ('source', 0.02172654747134121), ('work', 0.02077265482012594), ('term', 0.020705208675172854), ('set', 0.018841396893164997), ('appreciated', 0.018325395151001414), ('government', 0.01802763601493592), ('error', 0.017093154766033177), ('people', 0.01698844306397864), ('key', 0.01669374686425096), ('years', 0.016280768862683828), ('graphics', 0.015853637821918592), ('help', 0.01573136088185227), ('problem', 0.014988823668840611), ('orbit', 0.014983413265669692), ('following', 0.01492687241077407), ('law', 0.014590524755235316), ('files', 0.014462782093184315), ('motif', 0.013781226392774144), ('applications', 0.013765073204073032), ('fine', 0.013524577687116974), ('advance', 0.01332254148353115), ('ftp', 0.013313344152725216), ('launch', 0.013162205853375145), ('pay', 0.013054945774150211), ('money', 0.0128004233089915), ('works', 0.012770098924505075), ('motorcycle', 0.04137812115506359), ('bikes', 0.03949391794651107), ('ride', 0.03504524321708734), ('riding', 0.034369462506833204), ('space', 0.02720428255180661), ('gov', 0.018316014067507193), ('50', 0.013518299048396083), ('front', 0.012481418206179897), ('bit', 0.012054493620102028), ('miles', 0.01196875135634708), ('create', 0.011919705094540576), ('data', 0.011513350629397626), ('station', 0.01069854347815258), ('road', 0.010111872366624152), ('process', 0.009914695217568242), ('programs', 0.009366119771540823), ('plan', 0.00919057953173856), ('tax', 0.009148283550845722), ('information', 0.009075353103559182), ('public', 0.008925124742888537), ('drive', 0.008843519924058716), ('sources', 0.008374822222240756), ('software', 0.008347152718946847), ('bill', 0.008334953333695164), ('national', 0.008087170926047748), ('project', 0.007991388422485323), ('93', 0.007816053306865668), ('systems', 0.00762602382884172), ('value', 0.007591547264855272), ('report', 0.007478118978820671), ('message', 0.007441888776862575), ('budget', 0.007245541946142032), ('billion', 0.007245541946142027), ('image', 0.0071141127280816875), ('believe', 0.007078796937223358), ('request', 0.007003082517245613), ('package', 0.006822074674440281), ('flight', 0.006723345106758982), ('science', 0.006681069914513366), ('million', 0.006581785255032129), ('view', 0.006534464788248599), ('uses', 0.00643883569872275), ('included', 0.006258507488162731), ('continue', 0.006242493225362874), ('economic', 0.006216155477156671), ('many', 0.006200019022294982), ('moon', 0.006117803693670768), ('16', 0.006027136320631454), ('mean', 0.00600297022991012), ('buy', 0.005996440193228852), ('spacecraft', 0.02477995036160951), ('lunar', 0.022933448467900363), ('shuttle', 0.022319149750809363), ('light', 0.021513168451700843), ('solar', 0.01855882926452587), ('cost', 0.012475803792200866), ('commercial', 0.011763185379425393), ('development', 0.011676074252762677), ('research', 0.011443692581265272), ('engine', 0.010016527124391604), ('design', 0.009843227489290087), ('earth', 0.009809534061802265), ('technology', 0.009319195085414973), ('vehicle', 0.009165350204927779), ('18', 0.009148944873950906), ('nasa', 0.008824852502750101), ('large', 0.007922875982712987), ('technical', 0.007413378145241747), ('test', 0.007302305959059558), ('1993', 0.006767878942352708), ('power', 0.006127848618394884), ('built', 0.006006533507560172), ('world', 0.005883516040035228), ('safety', 0.00588259320001534), ('small', 0.005723506907775523), ('site', 0.005335076678894254), ('might', 0.005285156617002883), ('costs', 0.005264531750706244), ('state', 0.005062397238782293), ('near', 0.0050555402978945336), ('option', 0.004907300425589621), ('23', 0.004818688168987579), ('three', 0.0047963619674388815), ('today', 0.004456092287347065), ('known', 0.004371988115209903), ('designed', 0.004187936272164152), ('machine', 0.004162228231822666), ('center', 0.00414369081219332), ('available', 0.004133383102214242), ('useful', 0.004131081830896978), ('argument', 0.003912649110122041), ('city', 0.0038997562117356944), ('months', 0.003834368929688696), ('within', 0.00380881343093683), ('days', 0.0038041334571431436), ('case', 0.0036416859729666144), ('article', 0.0036303651129706337), ('military', 0.0034415810335004697), ('send', 0.00343260469869832), ('field', 0.003432198708662137), ('force', 0.01867804100006896), ('rights', 0.017688084528563595), ('federal', 0.017124551168878042), ('society', 0.016925979593876567), ('agree', 0.016706702456429506), ('said', 0.015505298956036105), ('laws', 0.0153833119194335), ('political', 0.015287180037279942), ('country', 0.014577454007826481), ('care', 0.014568844447913593), ('job', 0.013602365138950204), ('evidence', 0.013425190357149439), ('issue', 0.012700657528523921), ('legal', 0.012412097132354853), ('states', 0.01051281838702625), ('person', 0.009837487462109551), ('claim', 0.00889904001835953), ('president', 0.00884202458874959), ('hope', 0.008403464145851603), ('action', 0.008155748760148062), ('business', 0.007942076733295257), ('life', 0.007743922686976148), ('mind', 0.007533925322700892), ('private', 0.007502672380205733), ('saying', 0.007480854730249006), ('situation', 0.007426385237302808), ('simply', 0.0071683358231652925), ('issues', 0.006832798892883921), ('office', 0.006517525757727495), ('wanted', 0.006498831798504528), ('major', 0.006208988215192016), ('opinion', 0.006088865443311887), ('talking', 0.0060012039877516184), ('common', 0.005381736409037765), ('feel', 0.005279744185617222), ('email', 0.0052575412778242386), ('hold', 0.0052466777146027484), ('others', 0.004945071500872219), ('sun', 0.0049342130237208775), ('opinions', 0.004932106665338246), ('means', 0.0048724066715745504), ('hardware', 0.004792980361804068), ('services', 0.004781361658101023), ('sense', 0.004730461463314959), ('among', 0.004668597489901382), ('history', 0.004345790103882936), ('asked', 0.0043389106643043586), ('fast', 0.004153503765717402), ('total', 0.0040785691448074965), ('future', 0.004048655440793549)]\n"
          ]
        }
      ]
    },
    {
      "cell_type": "code",
      "source": [
        "#build X: NxD\n",
        "X=[]\n",
        "for i in range(len(top_MI)):\n",
        "    word=top_MI[i][0]\n",
        "    for key in X_train:\n",
        "      if X_train[key][0] == word:\n",
        "        X.append(X_train[key][1])\n",
        "      else: continue\n",
        "X=np.array(X,dtype=np.float128).transpose()\n",
        "X=normalize(X, axis=1, norm='l2')\n",
        "print(len(X))\n",
        "len(X[0])\n"
      ],
      "metadata": {
        "colab": {
          "base_uri": "https://localhost:8080/"
        },
        "id": "QQzrCQ86dnP3",
        "outputId": "f204f814-a897-4877-f445-56d5038c6d49"
      },
      "execution_count": null,
      "outputs": [
        {
          "output_type": "stream",
          "name": "stdout",
          "text": [
            "2249\n"
          ]
        },
        {
          "output_type": "execute_result",
          "data": {
            "text/plain": [
              "200"
            ]
          },
          "metadata": {},
          "execution_count": 11
        }
      ]
    },
    {
      "cell_type": "code",
      "source": [
        "#build Y : NxC\n",
        "Y=np.array(Y).transpose()\n",
        "print(len(Y[0]))\n",
        "print(len(Y))"
      ],
      "metadata": {
        "colab": {
          "base_uri": "https://localhost:8080/"
        },
        "id": "rE1y2BMy5TbY",
        "outputId": "9cb2b3f7-11c5-47ea-c149-19e228116d05"
      },
      "execution_count": null,
      "outputs": [
        {
          "output_type": "stream",
          "name": "stdout",
          "text": [
            "4\n",
            "2249\n"
          ]
        }
      ]
    },
    {
      "cell_type": "code",
      "source": [
        "#build test\n",
        "categ = ['comp.windows.x','rec.motorcycles','sci.space','talk.politics.misc']\n",
        "four_test = fetch_20newsgroups(subset='test', categories=categ, shuffle=True, random_state=42, remove=('headers', 'footers', 'quotes'))\n",
        "\n",
        "X_test=[]\n",
        "for i in range(len(top_MI)):\n",
        "    word=top_MI[i][0]\n",
        "    l=[]\n",
        "    for k in range(len(four_test.data)):\n",
        "      l.append(float(four_test.data[k].count(word)))\n",
        "    X_test.append(l)\n",
        "X_test=np.array(X_test,dtype=np.float128).transpose()\n",
        "X_test=normalize(X_test, axis=1, norm='l2')\n",
        "\n",
        "len(X_test)"
      ],
      "metadata": {
        "colab": {
          "base_uri": "https://localhost:8080/"
        },
        "id": "c3RXO4jl7Oo3",
        "outputId": "94a60291-7d28-4278-cf43-b5559b313750"
      },
      "execution_count": null,
      "outputs": [
        {
          "output_type": "execute_result",
          "data": {
            "text/plain": [
              "1497"
            ]
          },
          "metadata": {},
          "execution_count": 13
        }
      ]
    },
    {
      "cell_type": "code",
      "source": [
        "number_of_features=4\n",
        "y_test=np.zeros((len(four_test.target),4),int)\n",
        "for indx in range(len(four_test.target)):\n",
        "  y_test[indx][four_test.target[indx]]=1\n",
        "\n",
        "#print(len(y_test[0]))"
      ],
      "metadata": {
        "id": "zDwBkRiCLI0L"
      },
      "execution_count": null,
      "outputs": []
    },
    {
      "cell_type": "code",
      "source": [
        "class Multinomial_logistic:\n",
        "    def __init__(self, nFeatures, nClasses):\n",
        "        self.W = np.zeros((nFeatures, nClasses))\n",
        "        self.bias= np.zeros(nClasses)\n",
        "\n",
        "    def predict(self, X):\n",
        "        y_ = np.matmul(X, self.W)+ self.bias\n",
        "        y_pred = np.exp(y_)\n",
        "        return y_pred / y_pred.sum(axis=1).reshape(X.shape[0], 1)\n",
        "\n",
        "    def grad(self, X, y):\n",
        "        return np.matmul(X.transpose(), self.predict(X) - y), np.sum(self.predict(X) - y, axis= 0)\n",
        "\n",
        "    def ce(self, X, y):\n",
        "        return -np.sum(y * np.log(self.predict(X)))\n",
        "\n",
        "    def fit(self, X, y, X_valid=None, y_valid=None, lr=0.001, niter=10000):\n",
        "        N, D= X.shape\n",
        "        prev_ce=self.ce(X,y)/N\n",
        "        losses_train = np.zeros(niter)\n",
        "        for i in range(niter):\n",
        "            gw, gb= self.grad(X, y)\n",
        "            self.W = self.W - lr * gw\n",
        "            self.bias -= lr* gb\n",
        "            loss_train = self.ce(X, y)/N\n",
        "            losses_train[i] = loss_train\n",
        "            if i!= 0 and i% 1000== 0:\n",
        "              print(f\"iter {i}: {sum(losses_train)/(i):.3f}\")\n",
        "            if abs(loss_train-prev_ce) < 0.000001:\n",
        "              break\n",
        "            prev_ce= loss_train\n",
        "        return losses_train \n",
        "\n",
        "\n",
        "    def check_grad(self, X, y):\n",
        "          N, C = y.shape\n",
        "          D = X.shape[1]\n",
        "\n",
        "          diff = np.zeros((D, C))\n",
        "\n",
        "          W = self.W.copy()\n",
        "\n",
        "          for i in range(D):\n",
        "              for j in range(C):\n",
        "                  epsilon = np.zeros((D, C))\n",
        "                  epsilon[i, j] = np.random.rand() * 1e-4\n",
        "\n",
        "                  self.W = self.W + epsilon\n",
        "                  J1 = self.ce(X, y)\n",
        "                  self.W = W\n",
        "\n",
        "                  self.W = self.W - epsilon\n",
        "                  J2 = self.ce(X, y)\n",
        "                  self.W = W\n",
        "\n",
        "                  numeric_grad = (J1 - J2) / (2 * epsilon[i, j])\n",
        "                  derived_grad = self.grad(X, y)[0][i, j]\n",
        "\n",
        "                  diff[i, j] = np.square(derived_grad - numeric_grad).sum() / \\\n",
        "                              np.square(derived_grad + numeric_grad).sum()\n",
        "\n",
        "          # print(diff)\n",
        "          return diff.sum()\n",
        "      "
      ],
      "metadata": {
        "id": "nUHgq09odTMV"
      },
      "execution_count": null,
      "outputs": []
    },
    {
      "cell_type": "code",
      "source": [
        "D=X.shape[1]\n",
        "C=Y.shape[1]\n",
        "mlr = Multinomial_logistic(D, C)\n",
        "#mlr.W"
      ],
      "metadata": {
        "id": "MLiNeoA6AUwI"
      },
      "execution_count": null,
      "outputs": []
    },
    {
      "cell_type": "code",
      "source": [
        "ce_train= mlr.fit(X,Y,None,None,lr=0.001,niter=10000)"
      ],
      "metadata": {
        "colab": {
          "base_uri": "https://localhost:8080/"
        },
        "id": "NErG1abZBAwr",
        "outputId": "33e85ed8-7b5e-4cb6-d19c-1a554df4c314"
      },
      "execution_count": null,
      "outputs": [
        {
          "output_type": "stream",
          "name": "stdout",
          "text": [
            "iter 1000: 0.565\n",
            "iter 2000: 0.504\n",
            "iter 3000: 0.475\n",
            "iter 4000: 0.458\n",
            "iter 5000: 0.445\n",
            "iter 6000: 0.436\n",
            "iter 7000: 0.428\n",
            "iter 8000: 0.422\n",
            "iter 9000: 0.417\n"
          ]
        }
      ]
    },
    {
      "cell_type": "code",
      "source": [
        "def evaluate(y, y_pred):\n",
        "    accuracy = sum(y_pred.argmax(axis=1) == y.argmax(axis=1))\n",
        "    accuracy = accuracy / y.shape[0]\n",
        "    return accuracy"
      ],
      "metadata": {
        "id": "ro3msbAPKyXq"
      },
      "execution_count": null,
      "outputs": []
    },
    {
      "cell_type": "code",
      "source": [
        "print(mlr.check_grad(X,Y))"
      ],
      "metadata": {
        "id": "Ffkqy5yxdRpo",
        "colab": {
          "base_uri": "https://localhost:8080/"
        },
        "outputId": "189bace7-4a79-45fd-ee1a-47ec003d17fd"
      },
      "execution_count": null,
      "outputs": [
        {
          "output_type": "stream",
          "name": "stdout",
          "text": [
            "2.8711882597052995e-10\n"
          ]
        }
      ]
    },
    {
      "cell_type": "code",
      "source": [
        "train_accuracy = evaluate(mlr.predict(X), Y)\n",
        "#train_accuracy\n",
        "test_accuracy = evaluate(mlr.predict(X_test), y_test)\n",
        "test_accuracy"
      ],
      "metadata": {
        "id": "FU--cmlFLsCF",
        "colab": {
          "base_uri": "https://localhost:8080/"
        },
        "outputId": "fb6d6cb0-65f7-4fd9-9f80-ebef840825ed"
      },
      "execution_count": null,
      "outputs": [
        {
          "output_type": "execute_result",
          "data": {
            "text/plain": [
              "0.7474949899799599"
            ]
          },
          "metadata": {},
          "execution_count": 35
        }
      ]
    },
    {
      "cell_type": "code",
      "source": [
        "from operator import mul\n",
        "from sklearn.linear_model import LogisticRegression\n",
        "\n",
        "\n",
        "ml= LogisticRegression(multi_class= 'multinomial', max_iter= 10000).fit(X,np.array(four_train.target))\n",
        "results= ml.predict(X_test)\n",
        "counter= 0\n",
        "for e1, e2 in zip(four_test.target, results):\n",
        "  counter+= 1 if e1== e2 else 0\n",
        "\n",
        "print(counter/len(results))"
      ],
      "metadata": {
        "id": "rUHL1wGjTKiC",
        "colab": {
          "base_uri": "https://localhost:8080/"
        },
        "outputId": "f9d1ef4a-bc90-4d02-e6f3-d50e73a22a9a"
      },
      "execution_count": null,
      "outputs": [
        {
          "output_type": "stream",
          "name": "stdout",
          "text": [
            "0.7535070140280561\n"
          ]
        }
      ]
    },
    {
      "cell_type": "code",
      "source": [
        "import matplotlib.pyplot as plt\n",
        "plt.clf()\n",
        "plt.plot(ce_train)\n",
        "plt.show()"
      ],
      "metadata": {
        "id": "ck7eXsX6jWwY",
        "colab": {
          "base_uri": "https://localhost:8080/",
          "height": 267
        },
        "outputId": "83f060c7-c1d5-4edf-88dc-998798aca0f3"
      },
      "execution_count": null,
      "outputs": [
        {
          "output_type": "display_data",
          "data": {
            "text/plain": [
              "<Figure size 432x288 with 1 Axes>"
            ],
            "image/png": "[encoded data removed]"
          },
          "metadata": {
            "needs_background": "light"
          }
        }
      ]
    },
    {
      "cell_type": "markdown",
      "source": [
        "A bar plot that shows the classification accuracies of multiclass regression and KNN on the test data (y-axis) as a function of the 20%, 40%, 60%, 80%, and 100% training data (x-axis)"
      ],
      "metadata": {
        "id": "kZKBzqV9OpwB"
      }
    },
    {
      "cell_type": "code",
      "source": [
        "# Split part of the testing data to choose the best hyperparameter for KNN\n",
        "ten_per_part= int(len(X_test)/ 5)\n",
        "mlr_valid_KNN_X= X_test[:ten_per_part]\n",
        "mlr_valid_KNN_y= y_test[:ten_per_part]\n",
        "mlr_test_KNN_X= X_test[ten_per_part:]\n",
        "mlr_test_KNN_y= y_test[ten_per_part:]"
      ],
      "metadata": {
        "id": "Xij6lsRdiXp2"
      },
      "execution_count": null,
      "outputs": []
    },
    {
      "cell_type": "code",
      "source": [
        "from sklearn.neighbors import KNeighborsClassifier\n",
        "# Sklearn KNN\n",
        "ac_list= []\n",
        "for i in range(1, 101):\n",
        "    neigh = KNeighborsClassifier(n_neighbors= i).fit(X, Y)\n",
        "    ac_list.append(evaluate(neigh.predict(mlr_valid_KNN_X), mlr_valid_KNN_y))"
      ],
      "metadata": {
        "id": "oB9avqeCbBmq"
      },
      "execution_count": null,
      "outputs": []
    },
    {
      "cell_type": "code",
      "source": [
        "print(ac_list)"
      ],
      "metadata": {
        "colab": {
          "base_uri": "https://localhost:8080/"
        },
        "id": "QpuhKFusblET",
        "outputId": "33cf582b-c68f-4b01-908d-4f4282e7244a"
      },
      "execution_count": null,
      "outputs": [
        {
          "output_type": "stream",
          "name": "stdout",
          "text": [
            "[0.5986622073578596, 0.5418060200668896, 0.5986622073578596, 0.5618729096989966, 0.5986622073578596, 0.5484949832775919, 0.6020066889632107, 0.5551839464882943, 0.5585284280936454, 0.5284280936454849, 0.5384615384615384, 0.5284280936454849, 0.5384615384615384, 0.5117056856187291, 0.5217391304347826, 0.4916387959866221, 0.5016722408026756, 0.48494983277591974, 0.4983277591973244, 0.47491638795986624, 0.47491638795986624, 0.46153846153846156, 0.4782608695652174, 0.451505016722408, 0.46153846153846156, 0.44481605351170567, 0.45484949832775917, 0.43478260869565216, 0.43812709030100333, 0.4280936454849498, 0.44816053511705684, 0.4280936454849498, 0.43478260869565216, 0.4214046822742475, 0.431438127090301, 0.42474916387959866, 0.4280936454849498, 0.42474916387959866, 0.4280936454849498, 0.4214046822742475, 0.4180602006688963, 0.4180602006688963, 0.4280936454849498, 0.4214046822742475, 0.41471571906354515, 0.411371237458194, 0.411371237458194, 0.41471571906354515, 0.4180602006688963, 0.41471571906354515, 0.4180602006688963, 0.4080267558528428, 0.41471571906354515, 0.4013377926421405, 0.40468227424749165, 0.3979933110367893, 0.4013377926421405, 0.39464882943143814, 0.3979933110367893, 0.391304347826087, 0.39464882943143814, 0.3979933110367893, 0.39464882943143814, 0.4013377926421405, 0.3979933110367893, 0.39464882943143814, 0.4013377926421405, 0.4013377926421405, 0.4013377926421405, 0.4013377926421405, 0.40468227424749165, 0.3879598662207358, 0.3979933110367893, 0.39464882943143814, 0.38461538461538464, 0.38127090301003347, 0.38461538461538464, 0.3745819397993311, 0.3745819397993311, 0.36454849498327757, 0.3612040133779264, 0.36454849498327757, 0.3612040133779264, 0.36454849498327757, 0.36454849498327757, 0.36454849498327757, 0.35785953177257523, 0.36789297658862874, 0.3745819397993311, 0.3745819397993311, 0.36789297658862874, 0.3745819397993311, 0.3745819397993311, 0.36789297658862874, 0.3745819397993311, 0.36454849498327757, 0.36789297658862874, 0.36454849498327757, 0.3612040133779264, 0.3612040133779264]\n"
          ]
        }
      ]
    },
    {
      "cell_type": "code",
      "source": [
        "mlr_best_k= np.argmax(np.array(ac_list))\n",
        "print(mlr_best_k+ 1)\n",
        "neigh = KNeighborsClassifier(n_neighbors= mlr_best_k+ 1).fit(X, Y)\n",
        "KNN_results= neigh.predict(mlr_test_KNN_X)\n",
        "evaluate(KNN_results, mlr_test_KNN_y)"
      ],
      "metadata": {
        "colab": {
          "base_uri": "https://localhost:8080/"
        },
        "id": "EmGroBiQbVmE",
        "outputId": "852c3963-abce-4e04-eeff-d1f5fb71b791"
      },
      "execution_count": null,
      "outputs": [
        {
          "output_type": "stream",
          "name": "stdout",
          "text": [
            "7\n"
          ]
        },
        {
          "output_type": "execute_result",
          "data": {
            "text/plain": [
              "0.5567612687813022"
            ]
          },
          "metadata": {},
          "execution_count": 40
        }
      ]
    },
    {
      "cell_type": "code",
      "source": [
        "from operator import mul\n",
        "from sklearn.linear_model import LogisticRegression\n",
        "from sklearn.neighbors import KNeighborsClassifier\n",
        "\n",
        "def percentized_run(perc,algorithm):\n",
        "  D=X.shape[1]\n",
        "  C=Y.shape[1]\n",
        "  Y_raw= np.array(four_train.target)\n",
        "\n",
        "  indx = np.random.permutation(X.shape[0])\n",
        "  \n",
        "  permuted_X = X[indx]\n",
        "  permuted_Y = Y[indx]\n",
        "  permuted_Y_raw = Y_raw[indx]\n",
        "  newsize=int(np.ceil(perc*X.shape[0]))\n",
        "  permuted_X=permuted_X[:newsize]\n",
        "  permuted_Y=permuted_Y[:newsize]\n",
        "  permuted_Y_raw=permuted_Y_raw[:newsize]\n",
        "  if(algorithm==\"implemented_LR\"):\n",
        "    ce_train= mlr.fit(permuted_X,permuted_Y,None,None,lr=0.005,niter=10000)\n",
        "    test_accuracy = evaluate(mlr.predict(X_test), y_test)\n",
        "    return test_accuracy\n",
        "    '''\n",
        "  elif(algorithm==\"sklearn_LR\"):\n",
        "    ml= LogisticRegression(multi_class= 'multinomial', max_iter= 10000).fit(permuted_X,permuted_Y_raw)\n",
        "    results= ml.predict(X_test)\n",
        "    counter= 0\n",
        "    for e1, e2 in zip(four_test.target, results):\n",
        "      counter+= 1 if e1== e2 else 0\n",
        "    return (counter/len(results))\n",
        "    '''\n",
        "\n",
        "  elif(algorithm==\"KNN\"):\n",
        "    model = KNeighborsClassifier(n_neighbors=mlr_best_k+ 1)\n",
        "    model.fit(permuted_X,permuted_Y_raw)\n",
        "    predicted= model.predict(X_test)\n",
        "    counter=0\n",
        "    for e1, e2 in zip(four_test.target, predicted):\n",
        "      counter+= 1 if e1== e2 else 0\n",
        "    return (counter/len(predicted))\n",
        "\n",
        "#percentized_run(0.01,\"implemented_LR\")\n",
        "print(percentized_run(1,\"KNN\"))"
      ],
      "metadata": {
        "id": "udze_G6HP-WA",
        "colab": {
          "base_uri": "https://localhost:8080/"
        },
        "outputId": "afa21f70-ed16-4982-a64b-4bf02ee8edae"
      },
      "execution_count": null,
      "outputs": [
        {
          "output_type": "stream",
          "name": "stdout",
          "text": [
            "0.5898463593854375\n"
          ]
        }
      ]
    },
    {
      "cell_type": "code",
      "source": [
        "import numpy as np\n",
        "import matplotlib.pyplot as plt\n",
        " \n",
        "# set width of bar\n",
        "barWidth= 0.2\n",
        "# set height of bar\n",
        "ILR = [percentized_run(0.2,\"implemented_LR\")*100, percentized_run(0.4,\"implemented_LR\")*100, percentized_run(0.6,\"implemented_LR\")*100, percentized_run(0.8,\"implemented_LR\")*100, percentized_run(1,\"implemented_LR\")*100]\n",
        "#SLR = [percentized_run(0.2,\"sklearn_LR\")*100, percentized_run(0.4,\"sklearn_LR\")*100, percentized_run(0.6,\"sklearn_LR\")*100, percentized_run(0.8,\"sklearn_LR\")*100, percentized_run(1,\"sklearn_LR\")*100]\n",
        "SKN = [percentized_run(0.2,\"KNN\")*100, percentized_run(0.4,\"KNN\")*100, percentized_run(0.6,\"KNN\")*100, percentized_run(0.8,\"KNN\")*100, percentized_run(1,\"KNN\")*100]\n",
        " \n",
        "# Set position of bar on X axis\n",
        "br1 = np.arange(len(ILR))\n",
        "#br2 = [x + barWidth for x in br1]\n",
        "br3 = [x + barWidth for x in br2]\n",
        " \n",
        "# Make the plot\n",
        "plt.bar(br1, ILR, color ='r', width = barWidth,\n",
        "        edgecolor ='grey', label ='Our Logistic Regression')\n",
        "#plt.bar(br2, SLR, color ='g', width = barWidth,\n",
        "        #edgecolor ='grey', label ='Sklearn\\'s Logistic Regression')\n",
        "plt.bar(br3, SKN, color ='b', width = barWidth,\n",
        "        edgecolor ='grey', label ='KNN')\n",
        " \n",
        "# Adding Xticks\n",
        "plt.xlabel('Training Percentage', fontweight ='bold')\n",
        "plt.ylabel('Accuracy', fontweight ='bold')\n",
        "plt.xticks([r + barWidth for r in range(len(ILR))],\n",
        "        ['20%', '40%', '60%', '80%', '100%'])\n",
        " \n",
        "plt.legend()\n",
        "plt.show()"
      ],
      "metadata": {
        "id": "RSR1XE1ZOu-X",
        "colab": {
          "base_uri": "https://localhost:8080/",
          "height": 958
        },
        "outputId": "c04e049e-fd25-4273-b4bd-2255e4e02ad6"
      },
      "execution_count": null,
      "outputs": [
        {
          "output_type": "stream",
          "name": "stdout",
          "text": [
            "iter 1000: 0.222\n",
            "iter 2000: 0.197\n",
            "iter 3000: 0.184\n",
            "iter 4000: 0.176\n",
            "iter 5000: 0.170\n",
            "iter 6000: 0.165\n",
            "iter 7000: 0.161\n",
            "iter 8000: 0.158\n",
            "iter 9000: 0.156\n",
            "iter 1000: 0.340\n",
            "iter 2000: 0.293\n",
            "iter 3000: 0.271\n",
            "iter 4000: 0.258\n",
            "iter 5000: 0.248\n",
            "iter 6000: 0.241\n",
            "iter 7000: 0.236\n",
            "iter 8000: 0.231\n",
            "iter 9000: 0.227\n",
            "iter 1000: 0.370\n",
            "iter 2000: 0.322\n",
            "iter 3000: 0.300\n",
            "iter 4000: 0.287\n",
            "iter 5000: 0.278\n",
            "iter 6000: 0.271\n",
            "iter 7000: 0.266\n",
            "iter 8000: 0.262\n",
            "iter 9000: 0.259\n",
            "iter 1000: 0.362\n",
            "iter 2000: 0.331\n",
            "iter 3000: 0.315\n",
            "iter 4000: 0.306\n",
            "iter 5000: 0.300\n",
            "iter 6000: 0.295\n",
            "iter 7000: 0.292\n",
            "iter 8000: 0.289\n",
            "iter 1000: 0.351\n",
            "iter 2000: 0.337\n",
            "iter 3000: 0.331\n"
          ]
        },
        {
          "output_type": "display_data",
          "data": {
            "text/plain": [
              "<Figure size 432x288 with 1 Axes>"
            ],
            "image/png": "[encoded data removed]"
          },
          "metadata": {
            "needs_background": "light"
          }
        }
      ]
    },
    {
      "cell_type": "code",
      "source": [
        "weight_matrix = mlr.W\n",
        "\n",
        "class0_w = np.array(weight_matrix[:,0])\n",
        "class1_w = np.array(weight_matrix[:,1])\n",
        "class2_w = np.array(weight_matrix[:,2])\n",
        "class3_w = np.array(weight_matrix[:,3])\n",
        "\n",
        "index0 = class0_w.argsort()[-5:][::-1]\n",
        "index1 = class1_w.argsort()[-5:][::-1]\n",
        "index2 = class2_w.argsort()[-5:][::-1]\n",
        "index3 = class3_w.argsort()[-5:][::-1]\n",
        "index_list = np.concatenate((index0,index1,index2,index3))\n",
        "\n",
        "word_name = []\n",
        "weights=[]\n",
        "for idx in index_list:\n",
        "  weights.append(weight_matrix[idx].tolist())\n",
        "  word_name.append(top_MI[idx][0])\n",
        "\n",
        "from seaborn import heatmap\n",
        "W_hat = weights\n",
        "class_name=['comp.windows.x','rec.motorcycles', 'sci.space','talk.politics.misc']\n",
        "hmp = heatmap(W_hat, cmap='RdBu_r', center=0,xticklabels=class_name,yticklabels=word_name)\n",
        "fig = hmp.get_figure()\n",
        "\n",
        "\n",
        "\n"
      ],
      "metadata": {
        "id": "kL-X7im4tlLI",
        "colab": {
          "base_uri": "https://localhost:8080/",
          "height": 339
        },
        "outputId": "ba94a51d-573a-4078-8efd-8c29e45d7f15"
      },
      "execution_count": null,
      "outputs": [
        {
          "output_type": "display_data",
          "data": {
            "text/plain": [
              "<Figure size 432x288 with 2 Axes>"
            ],
            "image/png": "[encoded data removed]"
          },
          "metadata": {
            "needs_background": "light"
          }
        }
      ]
    }
  ]
}